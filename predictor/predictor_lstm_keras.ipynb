{
 "cells": [
  {
   "cell_type": "code",
   "execution_count": 1,
   "metadata": {},
   "outputs": [
    {
     "name": "stderr",
     "output_type": "stream",
     "text": [
      "Using TensorFlow backend.\n",
      "/Users/giorgoschantzialexiou/anaconda/lib/python2.7/site-packages/sklearn/cross_validation.py:41: DeprecationWarning: This module was deprecated in version 0.18 in favor of the model_selection module into which all the refactored classes and functions are moved. Also note that the interface of the new CV iterators are different from that of this module. This module will be removed in 0.20.\n",
      "  \"This module will be removed in 0.20.\", DeprecationWarning)\n"
     ]
    }
   ],
   "source": [
    "import numpy as np # linear algebra\n",
    "import pandas as pd # data processing, CSV file I/O (e.g. pd.read_csv)\n",
    "\n",
    "from subprocess import check_output\n",
    "from keras.layers.core import Dense, Activation, Dropout\n",
    "from keras.layers.recurrent import LSTM\n",
    "from keras.models import Sequential\n",
    "from sklearn.cross_validation import  train_test_split\n",
    "import time #helper libraries\n",
    "from sklearn.preprocessing import MinMaxScaler\n",
    "import matplotlib.pyplot as plt\n",
    "from numpy import newaxis"
   ]
  },
  {
   "cell_type": "code",
   "execution_count": 4,
   "metadata": {},
   "outputs": [
    {
     "data": {
      "text/html": [
       "<div>\n",
       "<style>\n",
       "    .dataframe thead tr:only-child th {\n",
       "        text-align: right;\n",
       "    }\n",
       "\n",
       "    .dataframe thead th {\n",
       "        text-align: left;\n",
       "    }\n",
       "\n",
       "    .dataframe tbody tr th {\n",
       "        vertical-align: top;\n",
       "    }\n",
       "</style>\n",
       "<table border=\"1\" class=\"dataframe\">\n",
       "  <thead>\n",
       "    <tr style=\"text-align: right;\">\n",
       "      <th></th>\n",
       "      <th>stock_name</th>\n",
       "      <th>date</th>\n",
       "      <th>open</th>\n",
       "      <th>high</th>\n",
       "      <th>low</th>\n",
       "      <th>close</th>\n",
       "      <th>volume</th>\n",
       "    </tr>\n",
       "  </thead>\n",
       "  <tbody>\n",
       "    <tr>\n",
       "      <th>0</th>\n",
       "      <td>AMZN</td>\n",
       "      <td>2016-09-16</td>\n",
       "      <td>773</td>\n",
       "      <td>780</td>\n",
       "      <td>772</td>\n",
       "      <td>779</td>\n",
       "      <td>5499182</td>\n",
       "    </tr>\n",
       "    <tr>\n",
       "      <th>1</th>\n",
       "      <td>AMZN</td>\n",
       "      <td>2016-09-19</td>\n",
       "      <td>780</td>\n",
       "      <td>782</td>\n",
       "      <td>771</td>\n",
       "      <td>775</td>\n",
       "      <td>2297221</td>\n",
       "    </tr>\n",
       "    <tr>\n",
       "      <th>2</th>\n",
       "      <td>AMZN</td>\n",
       "      <td>2016-09-20</td>\n",
       "      <td>776</td>\n",
       "      <td>781</td>\n",
       "      <td>776</td>\n",
       "      <td>780</td>\n",
       "      <td>1937164</td>\n",
       "    </tr>\n",
       "    <tr>\n",
       "      <th>3</th>\n",
       "      <td>AMZN</td>\n",
       "      <td>2016-09-21</td>\n",
       "      <td>783</td>\n",
       "      <td>791</td>\n",
       "      <td>779</td>\n",
       "      <td>790</td>\n",
       "      <td>2718644</td>\n",
       "    </tr>\n",
       "    <tr>\n",
       "      <th>4</th>\n",
       "      <td>AMZN</td>\n",
       "      <td>2016-09-22</td>\n",
       "      <td>794</td>\n",
       "      <td>806</td>\n",
       "      <td>794</td>\n",
       "      <td>805</td>\n",
       "      <td>4078910</td>\n",
       "    </tr>\n",
       "  </tbody>\n",
       "</table>\n",
       "</div>"
      ],
      "text/plain": [
       "  stock_name        date  open  high  low  close   volume\n",
       "0       AMZN  2016-09-16   773   780  772    779  5499182\n",
       "1       AMZN  2016-09-19   780   782  771    775  2297221\n",
       "2       AMZN  2016-09-20   776   781  776    780  1937164\n",
       "3       AMZN  2016-09-21   783   791  779    790  2718644\n",
       "4       AMZN  2016-09-22   794   806  794    805  4078910"
      ]
     },
     "execution_count": 4,
     "metadata": {},
     "output_type": "execute_result"
    }
   ],
   "source": [
    "amazon_csv = '/Users/giorgoschantzialexiou/Repositories/stock_prediction_web_app/data/historical_stock_price_data/hist_AMZN.csv'\n",
    "\n",
    "prices_dataset =  pd.read_csv(amazon_csv, header=0)\n",
    "prices_dataset.head()"
   ]
  },
  {
   "cell_type": "code",
   "execution_count": 12,
   "metadata": {},
   "outputs": [
    {
     "data": {
      "text/plain": [
       "(365, 1)"
      ]
     },
     "execution_count": 12,
     "metadata": {},
     "output_type": "execute_result"
    }
   ],
   "source": [
    "amazon = prices_dataset[prices_dataset['stock_name']=='AMZN']\n",
    "amazon_stock_prices = amazon.close.values.astype('float32')\n",
    "amazon_stock_prices = amazon_stock_prices.reshape(amazon_stock_prices.shape[0], 1)\n",
    "amazon_stock_prices.shape"
   ]
  },
  {
   "cell_type": "code",
   "execution_count": 11,
   "metadata": {},
   "outputs": [
    {
     "data": {
      "text/plain": [
       "365"
      ]
     },
     "execution_count": 11,
     "metadata": {},
     "output_type": "execute_result"
    }
   ],
   "source": [
    "amazon_stock_prices.shape[0]\n"
   ]
  },
  {
   "cell_type": "code",
   "execution_count": 13,
   "metadata": {},
   "outputs": [
    {
     "data": {
      "image/png": "[encoded data removed]",
      "text/plain": [
       "<matplotlib.figure.Figure at 0x1a160e2550>"
      ]
     },
     "metadata": {},
     "output_type": "display_data"
    }
   ],
   "source": [
    "plt.plot(amazon_stock_prices)\n",
    "plt.show()\n",
    "\n",
    "scaler = MinMaxScaler(feature_range=(0, 1))\n",
    "amazon_stock_prices = scaler.fit_transform(amazon_stock_prices)"
   ]
  },
  {
   "cell_type": "code",
   "execution_count": 16,
   "metadata": {},
   "outputs": [
    {
     "name": "stdout",
     "output_type": "stream",
     "text": [
      "(292, 73)\n"
     ]
    }
   ],
   "source": [
    "train_size = int(len(amazon_stock_prices) * 0.80)\n",
    "test_size = len(amazon_stock_prices) - train_size\n",
    "train, test = amazon_stock_prices[0:train_size,:], amazon_stock_prices[train_size:len(amazon_stock_prices),:]\n",
    "print(len(train), len(test))"
   ]
  },
  {
   "cell_type": "code",
   "execution_count": 20,
   "metadata": {},
   "outputs": [],
   "source": [
    "# convert an array of values into a dataset matrix\n",
    "\n",
    "def create_dataset(dataset, look_back=1):\n",
    "\tdataX, dataY = [], []\n",
    "\tfor i in range(len(dataset)-look_back-1):\n",
    "\t\ta = dataset[i:(i+look_back), 0]\n",
    "\t\tdataX.append(a)\n",
    "\t\tdataY.append(dataset[i + look_back, 0])\n",
    "\treturn np.array(dataX), np.array(dataY)"
   ]
  },
  {
   "cell_type": "code",
   "execution_count": 21,
   "metadata": {},
   "outputs": [],
   "source": [
    "# reshape into X=t and Y=t+1\n",
    "look_back = 1\n",
    "trainX, trainY = create_dataset(train, look_back)\n",
    "testX, testY = create_dataset(test, look_back)"
   ]
  },
  {
   "cell_type": "code",
   "execution_count": 22,
   "metadata": {},
   "outputs": [],
   "source": [
    "trainX = np.reshape(trainX, (trainX.shape[0], 1, trainX.shape[1]))\n",
    "testX = np.reshape(testX, (testX.shape[0], 1, testX.shape[1]))"
   ]
  },
  {
   "cell_type": "code",
   "execution_count": 23,
   "metadata": {},
   "outputs": [
    {
     "name": "stderr",
     "output_type": "stream",
     "text": [
      "/Users/giorgoschantzialexiou/anaconda/lib/python2.7/site-packages/ipykernel/__main__.py:7: UserWarning: The `input_dim` and `input_length` arguments in recurrent layers are deprecated. Use `input_shape` instead.\n",
      "/Users/giorgoschantzialexiou/anaconda/lib/python2.7/site-packages/ipykernel/__main__.py:7: UserWarning: Update your `LSTM` call to the Keras 2 API: `LSTM(units=50, return_sequences=True, input_shape=(None, 1))`\n"
     ]
    },
    {
     "name": "stdout",
     "output_type": "stream",
     "text": [
      "('compilation time : ', 0.05005693435668945)\n"
     ]
    },
    {
     "name": "stderr",
     "output_type": "stream",
     "text": [
      "/Users/giorgoschantzialexiou/anaconda/lib/python2.7/site-packages/ipykernel/__main__.py:16: UserWarning: Update your `Dense` call to the Keras 2 API: `Dense(units=1)`\n"
     ]
    }
   ],
   "source": [
    "#Step 2 Build Model\n",
    "model = Sequential()\n",
    "\n",
    "model.add(LSTM(\n",
    "    input_dim=1,\n",
    "    output_dim=50,\n",
    "    return_sequences=True))\n",
    "model.add(Dropout(0.2))\n",
    "\n",
    "model.add(LSTM(\n",
    "    100,\n",
    "    return_sequences=False))\n",
    "model.add(Dropout(0.2))\n",
    "\n",
    "model.add(Dense(\n",
    "    output_dim=1))\n",
    "model.add(Activation('linear'))\n",
    "\n",
    "start = time.time()\n",
    "model.compile(loss='mse', optimizer='rmsprop')\n",
    "print ('compilation time : ', time.time() - start)"
   ]
  },
  {
   "cell_type": "code",
   "execution_count": 24,
   "metadata": {},
   "outputs": [
    {
     "name": "stderr",
     "output_type": "stream",
     "text": [
      "/Users/giorgoschantzialexiou/anaconda/lib/python2.7/site-packages/keras/models.py:942: UserWarning: The `nb_epoch` argument in `fit` has been renamed `epochs`.\n",
      "  warnings.warn('The `nb_epoch` argument in `fit` '\n"
     ]
    },
    {
     "name": "stdout",
     "output_type": "stream",
     "text": [
      "Train on 275 samples, validate on 15 samples\n",
      "Epoch 1/10\n",
      "275/275 [==============================] - 3s 10ms/step - loss: 0.0536 - val_loss: 0.1565\n",
      "Epoch 2/10\n",
      "275/275 [==============================] - 0s 156us/step - loss: 0.0398 - val_loss: 0.1295\n",
      "Epoch 3/10\n",
      "275/275 [==============================] - 0s 161us/step - loss: 0.0295 - val_loss: 0.1073\n",
      "Epoch 4/10\n",
      "275/275 [==============================] - 0s 164us/step - loss: 0.0222 - val_loss: 0.0885\n",
      "Epoch 5/10\n",
      "275/275 [==============================] - 0s 165us/step - loss: 0.0169 - val_loss: 0.0693\n",
      "Epoch 6/10\n",
      "275/275 [==============================] - 0s 169us/step - loss: 0.0124 - val_loss: 0.0559\n",
      "Epoch 7/10\n",
      "275/275 [==============================] - 0s 176us/step - loss: 0.0100 - val_loss: 0.0459\n",
      "Epoch 8/10\n",
      "275/275 [==============================] - 0s 165us/step - loss: 0.0085 - val_loss: 0.0383\n",
      "Epoch 9/10\n",
      "275/275 [==============================] - 0s 167us/step - loss: 0.0081 - val_loss: 0.0343\n",
      "Epoch 10/10\n",
      "275/275 [==============================] - 0s 177us/step - loss: 0.0075 - val_loss: 0.0333\n"
     ]
    },
    {
     "data": {
      "text/plain": [
       "<keras.callbacks.History at 0x1a193fea10>"
      ]
     },
     "execution_count": 24,
     "metadata": {},
     "output_type": "execute_result"
    }
   ],
   "source": [
    "model.fit(\n",
    "    trainX,\n",
    "    trainY,\n",
    "    batch_size=128,\n",
    "    nb_epoch=10,\n",
    "    validation_split=0.05)"
   ]
  },
  {
   "cell_type": "code",
   "execution_count": 25,
   "metadata": {},
   "outputs": [],
   "source": [
    "def plot_results_multiple(predicted_data, true_data,length):\n",
    "    plt.plot(scaler.inverse_transform(true_data.reshape(-1, 1))[length:])\n",
    "    plt.plot(scaler.inverse_transform(np.array(predicted_data).reshape(-1, 1))[length:])\n",
    "    plt.show()"
   ]
  },
  {
   "cell_type": "code",
   "execution_count": 26,
   "metadata": {},
   "outputs": [
    {
     "name": "stdout",
     "output_type": "stream",
     "text": [
      "[[ 0.28391418]]\n",
      "[[ 0.52811033]]\n",
      "[[ 0.80051506]]\n",
      "[[ 1.12716818]]\n",
      "[[ 1.52943158]]\n",
      "[[  946.98303223]\n",
      " [ 1143.07263184]\n",
      " [ 1361.81359863]\n",
      " [ 1624.1159668 ]\n",
      " [ 1947.13354492]]\n"
     ]
    },
    {
     "data": {
      "image/png": "[encoded data removed]",
      "text/plain": [
       "<matplotlib.figure.Figure at 0x1a1a42a210>"
      ]
     },
     "metadata": {},
     "output_type": "display_data"
    }
   ],
   "source": [
    "#predict lenght consecutive values from a real one\n",
    "def predict_sequences_multiple(model, firstValue,length):\n",
    "    prediction_seqs = []\n",
    "    curr_frame = firstValue\n",
    "    \n",
    "    for i in range(length): \n",
    "        predicted = []        \n",
    "        \n",
    "        print(model.predict(curr_frame[newaxis,:,:]))\n",
    "        predicted.append(model.predict(curr_frame[newaxis,:,:])[0,0])\n",
    "        \n",
    "        curr_frame = curr_frame[0:]\n",
    "        curr_frame = np.insert(curr_frame[0:], i+1, predicted[-1], axis=0)\n",
    "        \n",
    "        prediction_seqs.append(predicted[-1])\n",
    "        \n",
    "    return prediction_seqs\n",
    "\n",
    "predict_length=5\n",
    "predictions = predict_sequences_multiple(model, testX[0], predict_length)\n",
    "print(scaler.inverse_transform(np.array(predictions).reshape(-1, 1)))\n",
    "plot_results_multiple(predictions, testY, predict_length)"
   ]
  },
  {
   "cell_type": "code",
   "execution_count": null,
   "metadata": {},
   "outputs": [],
   "source": []
  }
 ],
 "metadata": {
  "hide_input": false,
  "kernelspec": {
   "display_name": "Python 2",
   "language": "python",
   "name": "python2"
  },
  "language_info": {
   "codemirror_mode": {
    "name": "ipython",
    "version": 2
   },
   "file_extension": ".py",
   "mimetype": "text/x-python",
   "name": "python",
   "nbconvert_exporter": "python",
   "pygments_lexer": "ipython2",
   "version": "2.7.14"
  },
  "varInspector": {
   "cols": {
    "lenName": 16,
    "lenType": 16,
    "lenVar": 40
   },
   "kernels_config": {
    "python": {
     "delete_cmd_postfix": "",
     "delete_cmd_prefix": "del ",
     "library": "var_list.py",
     "varRefreshCmd": "print(var_dic_list())"
    },
    "r": {
     "delete_cmd_postfix": ") ",
     "delete_cmd_prefix": "rm(",
     "library": "var_list.r",
     "varRefreshCmd": "cat(var_dic_list()) "
    }
   },
   "types_to_exclude": [
    "module",
    "function",
    "builtin_function_or_method",
    "instance",
    "_Feature"
   ],
   "window_display": false
  }
 },
 "nbformat": 4,
 "nbformat_minor": 2
}
